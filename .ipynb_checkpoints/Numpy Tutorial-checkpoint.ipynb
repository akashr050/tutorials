{
 "cells": [
  {
   "cell_type": "markdown",
   "metadata": {},
   "source": [
    "# Numpy Tutorial"
   ]
  },
  {
   "cell_type": "markdown",
   "metadata": {},
   "source": [
    "### What is a numpy array?\n",
    "\n",
    "'numpy' is short for \"Numerical Python\". numpy library is the core library for scientific computing in Python. numpy array is the core data structure of that library. numpy array can we considered as a grid of values of the same type.   "
   ]
  },
  {
   "cell_type": "code",
   "execution_count": null,
   "metadata": {
    "collapsed": false
   },
   "outputs": [],
   "source": [
    "import numpy as np\n",
    "num_arr_1d = np.array([1, 2, 3])\n",
    "num_arr_2d = np.array([[1, 2, 3], [3, 4, 5]])\n",
    "print(\"num_arr_1d :\", num_arr_1d)\n",
    "print(\" num_arr_2d : \", num_arr_2d)"
   ]
  },
  {
   "cell_type": "markdown",
   "metadata": {},
   "source": [
    "\n",
    "Four basic properties which can define an entire numpy array are:\n",
    "<l>\n",
    "<li> <b>data</b>: The data pointer indicates the pointer of the first byte\n",
    "<li> <b>dtype</b>: Type of the elements in the numpy array\n",
    "<li> <b>shape</b>: The dimension of the numpy array\n",
    "<li> <b>strides</b>: The number of elements to be skipped in memory to go to the element in next row and next column respectively\n",
    "</l>"
   ]
  },
  {
   "cell_type": "code",
   "execution_count": null,
   "metadata": {
    "collapsed": false
   },
   "outputs": [],
   "source": [
    "print(\"Pointer to the first element of num_arr_2d: \",num_arr_1d.data)\n",
    "# Lets say we want to verify whether this is the pointer to the first element or not\n",
    "print(\"Pointer to the first element of num_arr_2d: \",num_arr_1d.data)\n",
    "\n",
    "# Similarily we can look at other three variables\n",
    "print(\"dtype: \", num_arr_1d.dtype)\n",
    "print(\"Shape: \", num_arr_1d.shape)\n",
    "print(\"Stride:\", num_arr_1d.strides)"
   ]
  },
  {
   "cell_type": "markdown",
   "metadata": {},
   "source": [
    "The most important among the above four operations are shape and dtype. Shape will come very handy while broadcasting and dtype will come in handy when we run into data-type conversion issues.\n",
    "\n",
    "###### Side Note: Another important thing to pay attention in python is that the counting starts from 0. But, when we are looking at shape values, it starts from 1 "
   ]
  },
  {
   "cell_type": "markdown",
   "metadata": {},
   "source": [
    "### Initialising numpy array\n",
    "\n",
    "We initialise the numpy array by np.array() command. We can also define the dtype or leave it (in this case, python will automatically learn the dtype). "
   ]
  },
  {
   "cell_type": "code",
   "execution_count": null,
   "metadata": {
    "collapsed": false
   },
   "outputs": [],
   "source": [
    "num_arr_2d = np.array([[1, 2, 3], [3, 4, 5]])\n",
    "\n",
    "print(num_arr_2d)"
   ]
  },
  {
   "cell_type": "markdown",
   "metadata": {},
   "source": [
    "Some of the other ways to define a numpy array are:"
   ]
  },
  {
   "cell_type": "code",
   "execution_count": null,
   "metadata": {
    "collapsed": false
   },
   "outputs": [],
   "source": [
    "print(np.ones((2, 4))) #create an array of ones with given shape\n",
    "\n",
    "print(np.zeros((2, 4))) # create an array of zeros with given shape\n",
    "\n",
    "print(np.full((2, 4), 2, dtype = np.int64)) # create a constant array \n",
    "\n",
    "print(np.random.random((2, 4)))"
   ]
  },
  {
   "cell_type": "markdown",
   "metadata": {},
   "source": [
    "There are also other choices for random function which we can use like uniform, normal and other similar distributions. "
   ]
  },
  {
   "cell_type": "code",
   "execution_count": null,
   "metadata": {
    "collapsed": false
   },
   "outputs": [],
   "source": [
    "print(np.random.normal(0, 1, size = (2, 4)), \"\\n\")\n",
    "\n",
    "print(np.random.uniform(-1, 1, size = (2, 4)))"
   ]
  },
  {
   "cell_type": "markdown",
   "metadata": {},
   "source": [
    "### Array Slicing\n",
    "\n",
    "Array slicing in python is similar to list. The first index is for axis 0, 2nd for axis 1 and so on. "
   ]
  },
  {
   "cell_type": "code",
   "execution_count": null,
   "metadata": {
    "collapsed": false
   },
   "outputs": [],
   "source": [
    "num_arr_2d = np.array([[1, 2, 3, 4], \n",
    "                       [5, 6, 7, 8],\n",
    "                       [9, 10, 11, 12],\n",
    "                       [13, 14, 15, 16]])\n",
    "print(\"Slicing the first two rows of num_arr_2d: \", num_arr_2d[:2, :], \"\\n\")\n",
    "print(\"Slicing the first two columns of num_arr_2d: \", num_arr_2d[:, :2], \"\\n\")\n",
    "print(\"Slicing the values corresponding to mid two rows and columns: \", num_arr_2d[1:3, 1:3])"
   ]
  },
  {
   "cell_type": "markdown",
   "metadata": {},
   "source": [
    "<b> Boolean array indexing: </b>is used to select elements of the array which satisfies certain conditions "
   ]
  },
  {
   "cell_type": "code",
   "execution_count": null,
   "metadata": {
    "collapsed": false
   },
   "outputs": [],
   "source": [
    "num_arr_2d[num_arr_2d > 11] # Note this outputs a 1-dim array irrespective of the dimension of the original array"
   ]
  },
  {
   "cell_type": "markdown",
   "metadata": {},
   "source": [
    "<b> Note:</b><i> Slicing will return a view of the underlying data i.e if we change the sliced data, the changes will be reflected in the underlying data as well</i>"
   ]
  },
  {
   "cell_type": "code",
   "execution_count": null,
   "metadata": {
    "collapsed": false
   },
   "outputs": [],
   "source": [
    "x = np.array([1, 2, 3, 4, 5, 6])\n",
    "y = x[3:5]\n",
    "y[0] = 0\n",
    "print(x, y)"
   ]
  },
  {
   "cell_type": "markdown",
   "metadata": {},
   "source": [
    "### Array Math\n",
    "\n",
    "All the basic operations are performed element wise on the numpy arraies of same size. "
   ]
  },
  {
   "cell_type": "code",
   "execution_count": null,
   "metadata": {
    "collapsed": false
   },
   "outputs": [],
   "source": [
    "x = np.array([[1, 2], [3, 4]])\n",
    "y = np.array([[5, 6], [7, 8]])\n",
    "print(\"x + y: \\n\", x + y, \"\\n\")\n",
    "print('x * y: \\n', x * y, \"\\n\")\n",
    "print('x / y: \\n', x / y, \"\\n\")\n",
    "print('x - y: \\n', x - y, \"\\n\")"
   ]
  },
  {
   "cell_type": "markdown",
   "metadata": {},
   "source": [
    "### Matrix multiplication\n",
    "\n",
    "In order to do matrix multiplication, we have to use the np.dot function"
   ]
  },
  {
   "cell_type": "code",
   "execution_count": null,
   "metadata": {
    "collapsed": false
   },
   "outputs": [],
   "source": [
    "num_1d_1 = np.array([1, 2, 3])\n",
    "num_1d_2 = np.array([0, 0, 1])\n",
    "np.dot(num_1d_1, num_1d_2) # this is a dot product between the two vectors"
   ]
  },
  {
   "cell_type": "code",
   "execution_count": null,
   "metadata": {
    "collapsed": false
   },
   "outputs": [],
   "source": [
    "num_2d_1 = np.array([[1, 2],\n",
    "                     [3, 4]])\n",
    "num_2d_2 = np.array([[1, 2, 3],\n",
    "                     [4, 5, 6]])\n",
    "np.dot(num_2d_1, num_2d_2) # Note that the dimension of the two array should be conformable for matrix multiplication\n",
    "                     "
   ]
  },
  {
   "cell_type": "markdown",
   "metadata": {},
   "source": [
    "### Broadcasting\n",
    "\n",
    "Broadcasting is the most powerful feature of numpy. This is very useful when have a smaller array & a larger array and we want to use the smaller array multiple times. The important rule for broadcasting is that the adjacent dimensions should match and the other dimension of one of the arrays should be 1. \n"
   ]
  },
  {
   "cell_type": "code",
   "execution_count": null,
   "metadata": {
    "collapsed": false
   },
   "outputs": [],
   "source": [
    "a = np.array([[1, 2, 3], [2, 3, 4]])\n",
    "b = np.array([1, 1, 1])\n",
    "print(a + b) # This works because the adjacent dimension of the two matches\n"
   ]
  },
  {
   "cell_type": "code",
   "execution_count": null,
   "metadata": {
    "collapsed": false
   },
   "outputs": [],
   "source": [
    "a = np.array([[1, 2, 3], [2, 3, 4]])\n",
    "b = np.array([[1, 1, 1], [2, 2, 2], [3, 3, 3]])\n",
    "print(a + b) # This doesn't works because the other dimension of none of the arrays is 1\n"
   ]
  },
  {
   "cell_type": "code",
   "execution_count": null,
   "metadata": {
    "collapsed": false
   },
   "outputs": [],
   "source": [
    "a = np.array([[1, 2, 3], [2, 3, 4]])\n",
    "b = np.array([1, 2])\n",
    "print(a.T * b)"
   ]
  },
  {
   "cell_type": "markdown",
   "metadata": {},
   "source": [
    "### Other useful functions\n",
    "\n",
    "<b>np.arange(start, stop, step): </b> To get a range of value and stop is not included\n"
   ]
  },
  {
   "cell_type": "code",
   "execution_count": null,
   "metadata": {
    "collapsed": false
   },
   "outputs": [],
   "source": [
    "print(np.arange(12, 20, 2))\n",
    "np.arange(20)"
   ]
  },
  {
   "cell_type": "markdown",
   "metadata": {},
   "source": [
    "<b>array.astype(dtype):</b> For type conversion"
   ]
  },
  {
   "cell_type": "code",
   "execution_count": null,
   "metadata": {
    "collapsed": false
   },
   "outputs": [],
   "source": [
    "a = np.array([1, 2, 3], dtype = \"int64\")\n",
    "a = a.astype(np.int32)\n",
    "a.dtype"
   ]
  },
  {
   "cell_type": "markdown",
   "metadata": {},
   "source": [
    "### Reducing functions\n",
    "\n",
    "numpy has lots of reducing functions like sum, mean, min, max etc. which collapes multidimensional arrays over the given axis. "
   ]
  },
  {
   "cell_type": "code",
   "execution_count": null,
   "metadata": {
    "collapsed": false
   },
   "outputs": [],
   "source": [
    "x = np.ones((2, 10))\n",
    "print(x.sum()) # Sum of all the values\n",
    "print(x.sum(axis=1))\n",
    "print(x.sum(axis=0))"
   ]
  },
  {
   "cell_type": "markdown",
   "metadata": {},
   "source": [
    "<i>Side Note: Whenever there is an attribute of x then we write it as x.attribute like shape, data etc. Whenever there is a function of x like mean, sum etc., we write it as x.sum(0)</i>  "
   ]
  }
 ],
 "metadata": {
  "anaconda-cloud": {},
  "kernelspec": {
   "display_name": "Python [Root]",
   "language": "python",
   "name": "Python [Root]"
  },
  "language_info": {
   "codemirror_mode": {
    "name": "ipython",
    "version": 3
   },
   "file_extension": ".py",
   "mimetype": "text/x-python",
   "name": "python",
   "nbconvert_exporter": "python",
   "pygments_lexer": "ipython3",
   "version": "3.5.2"
  }
 },
 "nbformat": 4,
 "nbformat_minor": 0
}
